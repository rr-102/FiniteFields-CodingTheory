{
  "nbformat": 4,
  "nbformat_minor": 0,
  "metadata": {
    "colab": {
      "provenance": []
    },
    "kernelspec": {
      "name": "python3",
      "display_name": "Python 3"
    },
    "language_info": {
      "name": "python"
    }
  },
  "cells": [
    {
      "cell_type": "markdown",
      "source": [
        "# Methods\n"
      ],
      "metadata": {
        "id": "zOQi35bJZr8B"
      }
    },
    {
      "cell_type": "code",
      "source": [
        "# dependencies\n",
        "import numpy as np\n",
        "import matplotlib.pyplot as plt\n",
        "import random as rd"
      ],
      "metadata": {
        "id": "Is7z5KEZ3nQJ"
      },
      "execution_count": null,
      "outputs": []
    },
    {
      "cell_type": "code",
      "execution_count": null,
      "metadata": {
        "id": "FL7q83j4sYwx"
      },
      "outputs": [],
      "source": [
        "def foil(n, poly1, poly2, mod): # foils two polynomials\n",
        "\n",
        "  nterms = 2*n - 1\n",
        "\n",
        "  output = np.zeros(nterms)\n",
        "\n",
        "  for i in range(n):\n",
        "    temp = poly2.copy()\n",
        "    temp = temp * poly1[i]\n",
        "    padded_array = np.pad(temp, (i, nterms - n - i), 'constant', constant_values=0)\n",
        "    output += padded_array\n",
        "\n",
        "  if mod > 0:\n",
        "    return np.mod(output, mod)\n",
        "\n",
        "  return output"
      ]
    },
    {
      "cell_type": "code",
      "source": [
        "def evaluate(poly, x, mod): # evaluates a polynomial at a given point\n",
        "\n",
        "  total = 0\n",
        "\n",
        "  for i in range(len(poly)):\n",
        "    total += poly[i] * x**i\n",
        "\n",
        "  return total % mod if mod > 0 else total\n"
      ],
      "metadata": {
        "id": "eTs2FqKB5Vny"
      },
      "execution_count": null,
      "outputs": []
    },
    {
      "cell_type": "code",
      "source": [
        "def interpolate(input, n, mod): # generates the polynomial that fits n points\n",
        "\n",
        "  size = len(input)\n",
        "  laplace = np.zeros(2*n - 1);\n",
        "\n",
        "  count = 0\n",
        "\n",
        "  for i in range(size):\n",
        "\n",
        "    if np.isnan(input[i]):\n",
        "      continue\n",
        "\n",
        "    nterms = 2\n",
        "    f = np.array([1, 0])\n",
        "\n",
        "    for j in range(size): # build laplace\n",
        "\n",
        "      if np.isnan(input[j]):\n",
        "        continue\n",
        "\n",
        "      if i==j:\n",
        "        continue\n",
        "\n",
        "      temp = np.array([-1 * j, 1]) # zero at this value\n",
        "      temp = np.pad(temp, (0, nterms - 2), 'constant', constant_values=0)\n",
        "      #print(f)\n",
        "      f = foil(nterms, f, temp, mod)\n",
        "\n",
        "      if nterms >= n: # we only need n - 1 terms\n",
        "        break\n",
        "      nterms += 1;\n",
        "\n",
        "    f = (f * input[i]) / evaluate(f, i, mod) # f[i] = input[i]\n",
        "    print(\"polynomial for f(\", i, \") = \", input[i], \": \", f)\n",
        "\n",
        "    laplace = laplace + f\n",
        "\n",
        "    count += 1\n",
        "    if count >= n: # we only need n number of points\n",
        "      break\n",
        "\n",
        "  if mod > 0:\n",
        "    return np.mod(laplace, mod)\n",
        "\n",
        "  print(\"polyfit for input: \", laplace)\n",
        "\n",
        "  return laplace\n"
      ],
      "metadata": {
        "id": "17Qp0Ixw7MEu"
      },
      "execution_count": null,
      "outputs": []
    },
    {
      "cell_type": "code",
      "source": [
        "def encode(input, laplace, n, k): # adds k new points given\n",
        "\n",
        "  output = input.copy()\n",
        "\n",
        "  for i in range(n, n+k):\n",
        "    newval = evaluate(laplace, i, -1)\n",
        "    output = np.append(output, newval)\n",
        "\n",
        "  return output"
      ],
      "metadata": {
        "id": "ZIIWpFb_FXYj"
      },
      "execution_count": null,
      "outputs": []
    },
    {
      "cell_type": "code",
      "source": [
        "def add_noise(input, n, k): # strikes k points (error)\n",
        "\n",
        "  for i in range(k):\n",
        "\n",
        "    index = rd.randint(0, n-1);\n",
        "\n",
        "    input[index] = np.nan;\n"
      ],
      "metadata": {
        "id": "rR5261jBIi6f"
      },
      "execution_count": null,
      "outputs": []
    },
    {
      "cell_type": "code",
      "source": [
        "def decode(noisy_encoded, n, k): # finds original code\n",
        "\n",
        "  output = np.zeros(n)\n",
        "\n",
        "  laplace = interpolate(noisy_encoded, n, -1)\n",
        "\n",
        "  for i in range(n):\n",
        "\n",
        "    if np.isnan(noisy_encoded[i]):\n",
        "      output[i] = evaluate(laplace, i, -1)\n",
        "      continue\n",
        "\n",
        "    output[i] = noisy_encoded[i]\n",
        "\n",
        "  return output"
      ],
      "metadata": {
        "id": "QGXXXmuVIREh"
      },
      "execution_count": null,
      "outputs": []
    },
    {
      "cell_type": "markdown",
      "source": [
        "# Simulation"
      ],
      "metadata": {
        "id": "nVeyMaFfZ0pN"
      }
    },
    {
      "cell_type": "code",
      "source": [
        "values = [1,2,3,5,2,7] # original signal\n",
        "n = len(values) # original signal length\n",
        "k = 6 # number of added values"
      ],
      "metadata": {
        "id": "_GXHkjPhCFva"
      },
      "execution_count": null,
      "outputs": []
    },
    {
      "cell_type": "code",
      "source": [
        "input = np.array(values)\n",
        "laplace = interpolate(input, n, -1) # fits to polynomial of degree n-1"
      ],
      "metadata": {
        "colab": {
          "base_uri": "https://localhost:8080/"
        },
        "id": "kud6Sd3uY8EJ",
        "outputId": "38480448-7bb7-447a-eb5f-0e4f6de7c6b7"
      },
      "execution_count": null,
      "outputs": [
        {
          "output_type": "stream",
          "name": "stdout",
          "text": [
            "polynomial for f( 0 ) =  1 :  [ 1.         -2.28333333  1.875      -0.70833333  0.125      -0.00833333\n",
            " -0.         -0.         -0.         -0.         -0.        ]\n",
            "polynomial for f( 1 ) =  2 :  [  0.          10.         -12.83333333   5.91666667  -1.16666667\n",
            "   0.08333333   0.           0.           0.           0.\n",
            "   0.        ]\n",
            "polynomial for f( 2 ) =  3 :  [ -0.   -15.    26.75 -14.75   3.25  -0.25  -0.    -0.    -0.    -0.\n",
            "  -0.  ]\n",
            "polynomial for f( 3 ) =  5 :  [  0.          16.66666667 -32.5         20.41666667  -5.\n",
            "   0.41666667   0.           0.           0.           0.\n",
            "   0.        ]\n",
            "polynomial for f( 4 ) =  2 :  [-0.         -2.5         5.08333333 -3.41666667  0.91666667 -0.08333333\n",
            " -0.         -0.         -0.         -0.         -0.        ]\n",
            "polynomial for f( 5 ) =  7 :  [ 0.          1.4        -2.91666667  2.04166667 -0.58333333  0.05833333\n",
            "  0.          0.          0.          0.          0.        ]\n",
            "polyfit for input:  [  1.           8.28333333 -14.54166667   9.5         -2.45833333\n",
            "   0.21666667   0.           0.           0.           0.\n",
            "   0.        ]\n"
          ]
        }
      ]
    },
    {
      "cell_type": "code",
      "source": [
        "encoded = encode(input, laplace, n, k)\n",
        "print(encoded)"
      ],
      "metadata": {
        "colab": {
          "base_uri": "https://localhost:8080/"
        },
        "id": "CwGF_MY6ZSQw",
        "outputId": "e718c279-9b33-4ad8-d928-e8a33ac76da7"
      },
      "execution_count": null,
      "outputs": [
        {
          "output_type": "stream",
          "name": "stdout",
          "text": [
            "[1.000e+00 2.000e+00 3.000e+00 5.000e+00 2.000e+00 7.000e+00 7.800e+01\n",
            " 3.440e+02 1.031e+03 2.488e+03 5.213e+03 9.879e+03]\n"
          ]
        }
      ]
    },
    {
      "cell_type": "code",
      "source": [
        "add_noise(encoded, n, k)\n",
        "print(encoded)"
      ],
      "metadata": {
        "colab": {
          "base_uri": "https://localhost:8080/"
        },
        "id": "R_JWeXh_ZSye",
        "outputId": "5ea23ab1-53c0-4b4b-a939-fa27fce3ca10"
      },
      "execution_count": null,
      "outputs": [
        {
          "output_type": "stream",
          "name": "stdout",
          "text": [
            "[1.000e+00       nan       nan       nan       nan       nan 7.800e+01\n",
            " 3.440e+02 1.031e+03 2.488e+03 5.213e+03 9.879e+03]\n"
          ]
        }
      ]
    },
    {
      "cell_type": "code",
      "source": [
        "decoded = decode(encoded, n, k)\n",
        "\n",
        "print(\"\\ndecoded message: \",decoded)"
      ],
      "metadata": {
        "colab": {
          "base_uri": "https://localhost:8080/"
        },
        "id": "57tnagjGLt9Y",
        "outputId": "5230f8b6-5a9e-4c00-87f2-b5410ed73ad4"
      },
      "execution_count": null,
      "outputs": [
        {
          "output_type": "stream",
          "name": "stdout",
          "text": [
            "polynomial for f( 0 ) =  1.0 :  [ 1.00000000e+00 -6.45634921e-01  1.65343915e-01 -2.09986772e-02\n",
            "  1.32275132e-03 -3.30687831e-05 -0.00000000e+00 -0.00000000e+00\n",
            " -0.00000000e+00 -0.00000000e+00 -0.00000000e+00]\n",
            "polynomial for f( 6 ) =  77.99999999999977 :  [ 0.00000000e+00  2.73000000e+03 -1.30758333e+03  2.33458333e+02\n",
            " -1.84166667e+01  5.41666667e-01  0.00000000e+00  0.00000000e+00\n",
            "  0.00000000e+00  0.00000000e+00  0.00000000e+00]\n",
            "polynomial for f( 7 ) =  344.0 :  [-0.00000000e+00 -3.53828571e+04  1.77897143e+04 -3.30895238e+03\n",
            "  2.70285714e+02 -8.19047619e+00 -0.00000000e+00 -0.00000000e+00\n",
            " -0.00000000e+00 -0.00000000e+00 -0.00000000e+00]\n",
            "polynomial for f( 8 ) =  1031.0 :  [ 0.00000000e+00  1.21786875e+05 -6.34065000e+04  1.22109062e+04\n",
            " -1.03100000e+03  3.22187500e+01  0.00000000e+00  0.00000000e+00\n",
            "  0.00000000e+00  0.00000000e+00  0.00000000e+00]\n",
            "polynomial for f( 9 ) =  2488.000000000002 :  [-0.00000000e+00 -1.54808889e+05  8.27490370e+04 -1.64023704e+04\n",
            "  1.42829630e+03 -4.60740741e+01 -0.00000000e+00 -0.00000000e+00\n",
            " -0.00000000e+00 -0.00000000e+00 -0.00000000e+00]\n",
            "polynomial for f( 10 ) =  5213.0 :  [ 0.00000000e+00  6.56838000e+04 -3.58393750e+04  7.27647917e+03\n",
            " -6.51625000e+02  2.17208333e+01  0.00000000e+00  0.00000000e+00\n",
            "  0.00000000e+00  0.00000000e+00  0.00000000e+00]\n",
            "polyfit for input:  [  1.           8.28333333 -14.54166667   9.5         -2.45833333\n",
            "   0.21666667   0.           0.           0.           0.\n",
            "   0.        ]\n",
            "\n",
            "decoded message:  [1. 2. 3. 5. 2. 7.]\n"
          ]
        }
      ]
    }
  ]
}