{
  "nbformat": 4,
  "nbformat_minor": 0,
  "metadata": {
    "colab": {
      "provenance": []
    },
    "kernelspec": {
      "name": "python3",
      "display_name": "Python 3"
    },
    "language_info": {
      "name": "python"
    }
  },
  "cells": [
    {
      "cell_type": "code",
      "source": [
        "import random as rd\n",
        "import numpy as np\n",
        "from mpl_toolkits.mplot3d import Axes3D\n",
        "#p = 0.01 # probability of a bit switching"
      ],
      "metadata": {
        "id": "YNNov4nIaS8b"
      },
      "execution_count": null,
      "outputs": []
    },
    {
      "cell_type": "code",
      "source": [
        "def read_binary(bmessage, chars):\n",
        "  output = \"\"\n",
        "  for i in range(chars):\n",
        "    ascii = 0;\n",
        "    byte = bmessage[i*8:(i+1)*8]\n",
        "    #print(byte)\n",
        "    for j in range(0,8):\n",
        "      ascii += (byte[j] << (7-j))\n",
        "    #print(ascii)\n",
        "    output += chr(ascii)\n",
        "  return output"
      ],
      "metadata": {
        "id": "OWo5lIQo4oV-"
      },
      "execution_count": null,
      "outputs": []
    },
    {
      "cell_type": "code",
      "source": [
        "def rand_noise(length, p):\n",
        "  signal = np.zeros(length).astype(int)\n",
        "  for i in range(length):\n",
        "    if rd.random() < p:\n",
        "      signal[i] = rd.randint(0,1);\n",
        "  return signal"
      ],
      "metadata": {
        "id": "GDJXXLJdnlog"
      },
      "execution_count": null,
      "outputs": []
    },
    {
      "cell_type": "code",
      "source": [
        "def binary_signal(message):\n",
        "  signal = np.array([[boolean for boolean in bin(ord(char))[2:].zfill(8)] for char in message]).astype(int).flatten()\n",
        "  return signal"
      ],
      "metadata": {
        "id": "kEC7Wl0svkwX"
      },
      "execution_count": null,
      "outputs": []
    },
    {
      "cell_type": "code",
      "source": [
        "def encode(bmessage, nbytes):\n",
        "\n",
        "  output = np.array([]).astype(int)\n",
        "  I = np.identity(8).astype(int)\n",
        "  generator = np.copy(I)\n",
        "\n",
        "  for i in range(redundancy-1):\n",
        "    generator = np.vstack((generator, I))\n",
        "\n",
        "  for i in range(nbytes):\n",
        "\n",
        "    byte_range = bmessage[i*8:(i+1)*8]\n",
        "    encoded_byte = generator @ byte_range\n",
        "    output = np.append(output, encoded_byte)\n",
        "\n",
        "  return output"
      ],
      "metadata": {
        "id": "gqHWVtkasqkQ"
      },
      "execution_count": null,
      "outputs": []
    },
    {
      "cell_type": "code",
      "source": [
        "def decode(noisy_message, nbytes):\n",
        "\n",
        "  #print(len(noisy_message))\n",
        "\n",
        "  output = np.array([]).astype(int)\n",
        "\n",
        "  I = np.identity(8).astype(int)\n",
        "  generator = np.copy(I)\n",
        "\n",
        "  for i in range(redundancy-1):\n",
        "    generator = np.hstack((generator, I))\n",
        "\n",
        "  #print(generator.shape)\n",
        "\n",
        "  for i in range(nbytes):\n",
        "\n",
        "    byte_range = noisy_message[i*8*redundancy:(i+1)*8*redundancy]\n",
        "    #print(byte_range, i*8*3, (i+1)*8*3)\n",
        "    encoded_byte = generator @ byte_range\n",
        "    encoded_byte = (np.round(encoded_byte / redundancy)).astype(int)\n",
        "    output = np.append(output, encoded_byte)\n",
        "\n",
        "  return output\n"
      ],
      "metadata": {
        "id": "N-CgdjEXqakB"
      },
      "execution_count": null,
      "outputs": []
    },
    {
      "cell_type": "code",
      "source": [
        "redundancy = 100000"
      ],
      "metadata": {
        "id": "RT1zS3SyLPZt"
      },
      "execution_count": null,
      "outputs": []
    },
    {
      "cell_type": "code",
      "source": [
        "p = 0.90\n",
        "\n",
        "message = \"Four score and seven years ago our fathers brought forth on this continent a new nation, conceived in liberty, and dedicated to the proposition that all men are created equal.\"\n",
        "byteslen = len(message)\n",
        "\n",
        "bmessage = binary_signal(message)\n",
        "encoded = encode(bmessage, byteslen)\n",
        "\n",
        "noisy_message = bmessage + rand_noise(len(bmessage), p)\n",
        "noisy_message = np.mod(noisy_message, 2)\n",
        "\n",
        "noisy_encoded = encoded + rand_noise(len(encoded), p)\n",
        "noisy_encoded = np.mod(noisy_encoded, 2)\n",
        "\n",
        "print(read_binary(noisy_message, byteslen))\n",
        "\n",
        "noisy_decoded = decode(noisy_encoded, byteslen)\n",
        "\n",
        "#print(read_binary(noisy_encoded, redundancy*byteslen))\n",
        "\n",
        "print(read_binary(noisy_decoded, byteslen))"
      ],
      "metadata": {
        "colab": {
          "base_uri": "https://localhost:8080/",
          "height": 356
        },
        "id": "Zoe-HsydrLFG",
        "outputId": "e96b5025-4299-4307-faff-6dd12961846c"
      },
      "execution_count": null,
      "outputs": [
        {
          "output_type": "error",
          "ename": "KeyboardInterrupt",
          "evalue": "",
          "traceback": [
            "\u001b[0;31m---------------------------------------------------------------------------\u001b[0m",
            "\u001b[0;31mKeyboardInterrupt\u001b[0m                         Traceback (most recent call last)",
            "\u001b[0;32m<ipython-input-9-5cf060d766c1>\u001b[0m in \u001b[0;36m<cell line: 7>\u001b[0;34m()\u001b[0m\n\u001b[1;32m      5\u001b[0m \u001b[0;34m\u001b[0m\u001b[0m\n\u001b[1;32m      6\u001b[0m \u001b[0mbmessage\u001b[0m \u001b[0;34m=\u001b[0m \u001b[0mbinary_signal\u001b[0m\u001b[0;34m(\u001b[0m\u001b[0mmessage\u001b[0m\u001b[0;34m)\u001b[0m\u001b[0;34m\u001b[0m\u001b[0;34m\u001b[0m\u001b[0m\n\u001b[0;32m----> 7\u001b[0;31m \u001b[0mencoded\u001b[0m \u001b[0;34m=\u001b[0m \u001b[0mencode\u001b[0m\u001b[0;34m(\u001b[0m\u001b[0mbmessage\u001b[0m\u001b[0;34m,\u001b[0m \u001b[0mbyteslen\u001b[0m\u001b[0;34m)\u001b[0m\u001b[0;34m\u001b[0m\u001b[0;34m\u001b[0m\u001b[0m\n\u001b[0m\u001b[1;32m      8\u001b[0m \u001b[0;34m\u001b[0m\u001b[0m\n\u001b[1;32m      9\u001b[0m \u001b[0mnoisy_message\u001b[0m \u001b[0;34m=\u001b[0m \u001b[0mbmessage\u001b[0m \u001b[0;34m+\u001b[0m \u001b[0mrand_noise\u001b[0m\u001b[0;34m(\u001b[0m\u001b[0mlen\u001b[0m\u001b[0;34m(\u001b[0m\u001b[0mbmessage\u001b[0m\u001b[0;34m)\u001b[0m\u001b[0;34m,\u001b[0m \u001b[0mp\u001b[0m\u001b[0;34m)\u001b[0m\u001b[0;34m\u001b[0m\u001b[0;34m\u001b[0m\u001b[0m\n",
            "\u001b[0;32m<ipython-input-5-e14eee7c8029>\u001b[0m in \u001b[0;36mencode\u001b[0;34m(bmessage, nbytes)\u001b[0m\n\u001b[1;32m      6\u001b[0m \u001b[0;34m\u001b[0m\u001b[0m\n\u001b[1;32m      7\u001b[0m   \u001b[0;32mfor\u001b[0m \u001b[0mi\u001b[0m \u001b[0;32min\u001b[0m \u001b[0mrange\u001b[0m\u001b[0;34m(\u001b[0m\u001b[0mredundancy\u001b[0m\u001b[0;34m-\u001b[0m\u001b[0;36m1\u001b[0m\u001b[0;34m)\u001b[0m\u001b[0;34m:\u001b[0m\u001b[0;34m\u001b[0m\u001b[0;34m\u001b[0m\u001b[0m\n\u001b[0;32m----> 8\u001b[0;31m     \u001b[0mgenerator\u001b[0m \u001b[0;34m=\u001b[0m \u001b[0mnp\u001b[0m\u001b[0;34m.\u001b[0m\u001b[0mvstack\u001b[0m\u001b[0;34m(\u001b[0m\u001b[0;34m(\u001b[0m\u001b[0mgenerator\u001b[0m\u001b[0;34m,\u001b[0m \u001b[0mI\u001b[0m\u001b[0;34m)\u001b[0m\u001b[0;34m)\u001b[0m\u001b[0;34m\u001b[0m\u001b[0;34m\u001b[0m\u001b[0m\n\u001b[0m\u001b[1;32m      9\u001b[0m \u001b[0;34m\u001b[0m\u001b[0m\n\u001b[1;32m     10\u001b[0m   \u001b[0;32mfor\u001b[0m \u001b[0mi\u001b[0m \u001b[0;32min\u001b[0m \u001b[0mrange\u001b[0m\u001b[0;34m(\u001b[0m\u001b[0mnbytes\u001b[0m\u001b[0;34m)\u001b[0m\u001b[0;34m:\u001b[0m\u001b[0;34m\u001b[0m\u001b[0;34m\u001b[0m\u001b[0m\n",
            "\u001b[0;32m/usr/local/lib/python3.10/dist-packages/numpy/core/shape_base.py\u001b[0m in \u001b[0;36mvstack\u001b[0;34m(tup, dtype, casting)\u001b[0m\n\u001b[1;32m    287\u001b[0m     \u001b[0;32mif\u001b[0m \u001b[0;32mnot\u001b[0m \u001b[0misinstance\u001b[0m\u001b[0;34m(\u001b[0m\u001b[0marrs\u001b[0m\u001b[0;34m,\u001b[0m \u001b[0mlist\u001b[0m\u001b[0;34m)\u001b[0m\u001b[0;34m:\u001b[0m\u001b[0;34m\u001b[0m\u001b[0;34m\u001b[0m\u001b[0m\n\u001b[1;32m    288\u001b[0m         \u001b[0marrs\u001b[0m \u001b[0;34m=\u001b[0m \u001b[0;34m[\u001b[0m\u001b[0marrs\u001b[0m\u001b[0;34m]\u001b[0m\u001b[0;34m\u001b[0m\u001b[0;34m\u001b[0m\u001b[0m\n\u001b[0;32m--> 289\u001b[0;31m     \u001b[0;32mreturn\u001b[0m \u001b[0m_nx\u001b[0m\u001b[0;34m.\u001b[0m\u001b[0mconcatenate\u001b[0m\u001b[0;34m(\u001b[0m\u001b[0marrs\u001b[0m\u001b[0;34m,\u001b[0m \u001b[0;36m0\u001b[0m\u001b[0;34m,\u001b[0m \u001b[0mdtype\u001b[0m\u001b[0;34m=\u001b[0m\u001b[0mdtype\u001b[0m\u001b[0;34m,\u001b[0m \u001b[0mcasting\u001b[0m\u001b[0;34m=\u001b[0m\u001b[0mcasting\u001b[0m\u001b[0;34m)\u001b[0m\u001b[0;34m\u001b[0m\u001b[0;34m\u001b[0m\u001b[0m\n\u001b[0m\u001b[1;32m    290\u001b[0m \u001b[0;34m\u001b[0m\u001b[0m\n\u001b[1;32m    291\u001b[0m \u001b[0;34m\u001b[0m\u001b[0m\n",
            "\u001b[0;31mKeyboardInterrupt\u001b[0m: "
          ]
        }
      ]
    },
    {
      "cell_type": "code",
      "source": [],
      "metadata": {
        "id": "4l-GEJUVMzw2"
      },
      "execution_count": null,
      "outputs": []
    }
  ]
}